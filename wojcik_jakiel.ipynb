{
  "metadata": {
    "kernelspec": {
      "name": "SQLite",
      "display_name": "SQLite",
      "language": "sql"
    },
    "language_info": {
      "codemirror_mode": "sql",
      "file_extension": "",
      "mimetype": "",
      "name": "sql",
      "version": "3.32.3"
    }
  },
  "nbformat_minor": 5,
  "nbformat": 4,
  "cells": [
    {
      "id": "e4f40f29-5699-4417-bbb7-68c35e8782a6",
      "cell_type": "markdown",
      "source": "# *Sprawozdanie ćw. 14 - WÓJCIK (198212) JAKIEL (197733)*",
      "metadata": {}
    },
    {
      "id": "7e9d3ea0-81e4-49ff-ada2-62acfe52ee8b",
      "cell_type": "markdown",
      "source": "## *Wprowadzenie :*\nNiniejsze sprawozdanie opisuje implementację symulatora układu dynamicznego opisanego transmitancją $G(s)$ wraz z regulatorem $G_c(s)$ w konfiguracji z ujemnym sprzężeniem zwrotnym. Symulator umożliwia analizę odpowiedzi czasowej układu na różne rodzaje sygnałów wejściowych (prostokątny o skończonym czasie trwania, trójkątny, harmoniczny) oraz pozwala na zmianę parametrów transmitancji i sygnałów wejściowych. W sprawozdaniu szczegółowo opisano proces uzyskania transmitancji układu zamkniętego oraz zastosowaną metodę numeryczną – metodę Eulera – do rozwiązania równań różniczkowych opisujących dynamikę układu.",
      "metadata": {}
    },
    {
      "id": "38d62672-f1cd-4c2e-ac26-a071f96f36c1",
      "cell_type": "markdown",
      "source": "## 1. Rozwinięcie opisu uzyskania mianownika transmitancji wypadkowej ze sprzężeniem zwrotnym\n\nW analizowanym układzie mamy do czynienia z systemem sterowania w konfiguracji z ujemnym sprzężeniem zwrotnym. Składa się on z dwóch głównych bloków opisanych transmitancjami: \n- członu głównego $G(s)$ oraz \n- członu regulatora $G_c(s)$.\n\nTransmitancje te opisują dynamiczne właściwości poszczególnych komponentów w dziedzinie zespolonej zmiennej \\( s \\), będącej zmienną Laplace’a.\n\nTransmitancja członu głównego ma postać:\n\n$$\nG(s) = \\frac{a_1s + a_0}{b_2s^2 + b_1s + b_0}\n$$\n\nNatomiast transmitancja regulatora ma postać:\n\n$$\nG_c(s) = \\frac{c_2s^2 + c_1s + c_0}{d_2s^2 + d_1s + d_0}\n$$\n\nTransmitancja otwartej pętli układu, czyli wypadkowa transmitancja połączonych szeregowo członu głównego i regulatora, jest iloczynem transmitancji składowych:\n\n$$\nG_o(s) = G(s) \\cdot G_c(s) = \\left( \\frac{a_1s + a_0}{b_2s^2 + b_1s + b_0} \\right) \\cdot \\left( \\frac{c_2s^2 + c_1s + c_0}{d_2s^2 + d_1s + d_0} \\right)\n$$\n\nPo wykonaniu mnożenia wielomianów w liczniku i mianowniku otrzymujemy:\n\n$$\nG_o(s) = \\frac{(a_1s + a_0)(c_2s^2 + c_1s + c_0)}{(b_2s^2 + b_1s + b_0)(d_2s^2 + d_1s + d_0)} = \\frac{(a_1c_2)s^3 + (a_1c_1 + a_0c_2)s^2 + (a_1c_0 + a_0c_1)s + (a_0c_0)}{(b_2d_2)s^4 + (b_2d_1 + b_1d_2)s^3 + (b_2d_0 + b_1d_1 + b_0d_2)s^2 + (b_1d_0 + b_0d_1)s + (b_0d_0)}\n$$\n\nOznaczając licznik transmitancji otwartej pętli jako $L(s)$ i mianownik jako $M(s)$:\n\n$$\nL(s) = (a_1c_2)s^3 + (a_1c_1 + a_0c_2)s^2 + (a_1c_0 + a_0c_1)s + (a_0c_0)\n$$\n\n$$\nM(s) = (b_2d_2)s^4 + (b_2d_1 + b_1d_2)s^3 + (b_2d_0 + b_1d_1 + b_0d_2)s^2 + (b_1d_0 + b_0d_1)s + (b_0d_0)\n$$\n\nW układzie z ujemnym sprzężeniem zwrotnym jednostkowym, sygnał wyjściowy jest odejmowany od sygnału wejściowego, a różnica stanowi sygnał sterujący dla otwartej pętli. Transmitancja układu zamkniętego $G_z(s)$, która opisuje zależność między sygnałem wyjściowym a wejściowym całego układu ze sprzężeniem zwrotnym, dana jest ogólnym wzorem:\n\n$$\nG_z(s) = \\frac{G_o(s)}{1 + G_o(s)}\n$$\n\nPodstawiając $ G_o(s) = \\frac{L(s)}{M(s)} $ do powyższego wzoru, otrzymujemy:\n\n$$\nG_z(s) = \\frac{\\frac{L(s)}{M(s)}}{1 + \\frac{L(s)}{M(s)}} = \\frac{L(s)}{M(s) + L(s)}\n$$\n\nZ tego wyrażenia jasno wynika, że mianownik transmitancji układu zamkniętego $ G_z(s) $, który oznaczamy jako $ D(s) $, jest sumą mianownika transmitancji otwartej pętli $ M(s) $ i licznika tej transmitancji $ L(s) $:\n\n$$\nD(s) = M(s) + L(s)\n$$\n\nPodstawiając rozwinięte formy $ L(s) $ i $ M(s) $, otrzymujemy:\n\n$$\nD(s) = (b_2d_2)s^4 + (b_2d_1 + b_1d_2)s^3 + (b_2d_0 + b_1d_1 + b_0d_2)s^2 + (b_1d_0 + b_0d_1)s + (b_0d_0) + (a_1c_2)s^3 + (a_1c_1 + a_0c_2)s^2 + (a_1c_0 + a_0c_1)s + (a_0c_0)\n$$\n\nPo pogrupowaniu wyrazów o tych samych potęgach zmiennej $ s $, otrzymujemy ostateczną postać mianownika wypadkowej transmitancji układu zamkniętego:\n\n$$\nD(s) = (b_2d_2)s^4 + (b_2d_1 + b_1d_2 + a_1c_2)s^3 + (b_2d_0 + b_1d_1 + b_0d_2 + a_1c_1 + a_0c_2)s^2 + (b_1d_0 + b_0d_1 + a_1c_0 + a_0c_1)s + (b_0d_0 + a_0c_0)\n$$",
      "metadata": {}
    },
    {
      "id": "2c7da6e8-278b-4676-ad88-e9a0619908c2",
      "cell_type": "markdown",
      "source": "## 2. Rozwinięcie opisu metody Eulera dla równań różniczkowych\n\nMetoda Eulera jest jedną z najprostszych metod numerycznych służących do przybliżonego rozwiązywania równań różniczkowych zwyczajnych pierwszego rzędu z zadanym warunkiem początkowym. Jej podstawowa idea polega na aproksymacji pochodnej funkcji w danym punkcie za pomocą ilorazu różnicowego, co geometrycznie odpowiada przybliżeniu krzywej rozwiązania przez styczną w tym punkcie.\n\nRozważmy ogólne równanie różniczkowe pierwszego rzędu:\n\n$$\n\\frac{dy}{dt} = f(t, y(t))\n$$\n\nz warunkiem początkowym $y(t_0) = y_0$. Chcemy znaleźć przybliżoną wartość funkcji $y(t)$ w dyskretnych momentach czasu $t_k = t_0 + k \\cdot h$, gdzie $h$ jest krokiem czasowym.\n\n### Metoda Eulera w przód:\n\nW metodzie Eulera w przód, pochodną $\\frac{dy}{dt}$ w chwili $t_k$ przybliżamy za pomocą ilorazu różnicowego w przód:\n\n\n$$\n\\frac{dy}{dt} \\approx \\frac{y(t_k + h) - y(t_k)}{h} = \\frac{y_{k+1} - y_k}{h}\n$$\n\ngdzie $y_k$ oznacza przybliżoną wartość $y(t_k)$, a $y_{k+1}$ oznacza przybliżoną wartość $y(t_{k+1})$.\n\nPodstawiając to przybliżenie do równania różniczkowego, otrzymujemy:\n\n$$\n\\frac{y_{k+1} - y_k}{h} \\approx f(t_k, y_k)\n$$\n\nPrzekształcając to równanie, otrzymujemy iteracyjny wzór metody Eulera w przód:\n\n$$\ny_{k+1} = y_k + h \\cdot f(t_k, y_k)\n$$\n\nTen wzór pozwala nam krok po kroku obliczać przybliżone wartości rozwiązania równania różniczkowego, zaczynając od znanego warunku początkowego.\n\n---\n\n### Rozszerzenie na równania różniczkowe wyższych rzędów:\n\nW praktyce często mamy do czynienia z równaniami różniczkowymi wyższych rzędów. Aby móc zastosować do nich metodę Eulera, konieczne jest przekształcenie takiego równania w układ równań różniczkowych pierwszego rzędu.\n\nRozważmy równanie różniczkowe $n$-tego rzędu:\n\n$$\n\\frac{d^n y}{dt^n} = g\\left(t, y, \\frac{dy}{dt}, \\ldots, \\frac{d^{n-1}y}{dt^{n-1}}\\right)\n$$\n\nWprowadzamy nowe zmienne stanu:\n\n$$\nx_1(t) = y(t)\n$$\n$$\nx_2(t) = \\frac{dy}{dt} = \\frac{dx_1}{dt}\n$$\n$$\nx_3(t) = \\frac{d^2 y}{dt^2} = \\frac{dx_2}{dt}\n$$\n$$\n\\vdots\n$$\n$$\nx_n(t) = \\frac{d^{n-1} y}{dt^{n-1}} = \\frac{dx_{n-1}}{dt}\n$$\n\nWtedy równanie $n$-tego rzędu jest równoważne układowi $n$ równań różniczkowych pierwszego rzędu:\n\n$$\n\\frac{dx_1}{dt} = x_2\n$$\n$$\n\\frac{dx_2}{dt} = x_3\n$$\n$$\n\\vdots\n$$\n$$\n\\frac{dx_{n-1}}{dt} = x_n\n$$\n$$\n\\frac{dx_n}{dt} = g(t, x_1, x_2, \\ldots, x_n)\n$$\n\nDo każdego z tych równań możemy zastosować metodę Eulera w przód:\n\n$$\nx_{1,k+1} = x_{1,k} + h \\cdot x_{2,k}\n$$\n$$\nx_{2,k+1} = x_{2,k} + h \\cdot x_{3,k}\n$$\n$$\n\\vdots\n$$\n$$\nx_{n-1,k+1} = x_{n-1,k} + h \\cdot x_{n,k}\n$$\n$$\nx_{n,k+1} = x_{n,k} + h \\cdot g(t_k, x_{1,k}, x_{2,k}, \\ldots, x_{n,k})\n$$",
      "metadata": {}
    },
    {
      "id": "4a49aa9a-3853-4ffe-9940-ebf0b9fa8fc7",
      "cell_type": "markdown",
      "source": "## 3. Implementacja numeryczna – odpowiedź układu metodą Eulera\n\nW tej części sprawozdania przedstawiona została implementacja metody Eulera do rozwiązania równania różniczkowego wyższego rzędu wynikającego z transmitancji układu.\n\n### Transmitancja układu\n\nRozważamy układ, którego transmitancja otwarta $ G_o(s) $ wynika z dwóch połączonych szeregowo transmitancji $ G(s) $ oraz $ G_c(s) $:\n\n$$\nG(s) = \\frac{a_1 s + a_0}{b_2 s^2 + b_1 s + b_0}, \\quad G_c(s) = \\frac{c_2 s^2 + c_1 s + c_0}{d_2 s^2 + d_1 s + d_0}\n$$\n\nTransmitancja układu zamkniętego z ujemnym sprzężeniem zwrotnym:\n\n$$\nG_z(s) = \\frac{G(s) G_c(s)}{1 + G(s) G_c(s)} = \\frac{(a_1c_2)s^3 + (a_1c_1 + a_0c_2)s^2 + (a_1c_0 + a_0c_1)s + (a_0c_0)}{(b_2d_2)s^4 + (b_2d_1 + b_1d_2 + a_1c_2)s^3 + (b_2d_0 + b_1d_1 + b_0d_2 + a_1c_1 + a_0c_2)s^2 + (b_1d_0 + b_0d_1 + a_1c_0 + a_0c_1)s + (b_0d_0 + a_0c_0)} = \\frac{L(s)}{D(s)}\n$$\nGdzie:\n\n$$\nl_3 = a_1 c_2\n$$\n\n$$\nl_2 = a_1 c_1 + a_0 c_2\n$$\n\n$$\nl_1 = a_1 c_0 + a_0 c_1\n$$\n\n$$\nl_0 = a_0 c_0\n$$\n\noraz:\n\n$$\nd_4 = b_2 d_2\n$$\n\n$$\nd_3 = b_2 d_1 + b_1 d_2 + a_1 c_2\n$$\n\n$$\nd_2 = b_2 d_0 + b_1 d_1 + b_0 d_2 + a_1 c_1 + a_0 c_2\n$$\n\n$$\nd_1 = b_1 d_0 + b_0 d_1 + a_1 c_0 + a_0 c_1\n$$\n\n$$\nd_0 = b_0 d_0 + a_0 c_0\n$$\n    \nZ relacji:\n\n$$\nY(s) = G_z(s) \\cdot U(s)\n$$\n\nprzechodzimy do postaci równania różniczkowego:\n\n$$\nD(s)Y(s) = L(s)U(s)\n$$\n\nRozwijając obie strony równania, otrzymujemy:\n\n$$\n\\left( d_4 s^4 + d_3 s^3 + d_2 s^2 + d_1 s + d_0 \\right) Y(s) = \\left( l_3 s^3 + l_2 s^2 + l_1 s + l_0 \\right) U(s)\n$$\n\nczyli:\n\n$$\nd_4 s^4 Y(s) = \\left( l_3 s^3 + l_2 s^2 + l_1 s + l_0 \\right) U(s) - \\left( d_3 s^3 + d_2 s^2 + d_1 s + d_0 \\right) Y(s)\n$$\n\nDzieląc obie strony przez $ d_4 $, otrzymujemy ostatecznie:\n\n$$\ns^4 Y(s) = \\frac{1}{d_4} \\left[ \\left( l_3 s^3 + l_2 s^2 + l_1 s + l_0 \\right) U(s) - \\left( d_3 s^3 + d_2 s^2 + d_1 s + d_0 \\right) Y(s) \\right]\n$$\n\nW dziedzinie czasu:\n\n$$\nd_4 \\frac{d^4 y}{dt^4} + d_3 \\frac{d^3 y}{dt^3} + d_2 \\frac{d^2 y}{dt^2} + d_1 \\frac{dy}{dt} + d_0 y = l_3 \\frac{d^3 u}{dt^3} + l_2 \\frac{d^2 u}{dt^2} + l_1 \\frac{du}{dt} + l_0 u\n$$\n\nWyodrębniając $ \\frac{d^4 y}{dt^4} $, otrzymujemy:\n\n$$\n\\frac{d^4 y}{dt^4} = \\frac{1}{d_4} \\left( l_3 \\frac{d^3 u}{dt^3} + l_2 \\frac{d^2 u}{dt^2} + l_1 \\frac{du}{dt} + l_0 u - d_3 \\frac{d^3 y}{dt^3} - d_2 \\frac{d^2 y}{dt^2} - d_1 \\frac{dy}{dt} - d_0 y \\right)\n$$\n\n### Numeryczna implementacja równania\n\nRozwiązujemy powyższe równanie różniczkowe metodą Eulera w przód. W tym celu wyznaczane są pochodne funkcji wejściowej $ u(t) $ oraz wyjściowej $ y(t) $, a następnie wyliczane są kolejne wartości funkcji wyjściowej iteracyjnie zgodnie z równaniem:\n\n$$\ny^{(4)} = \\frac{1}{d_4} \\left( l_3 u^{(3)} + l_2 u^{(2)} + l_1 \\dot{u} + l_0 u - d_3 y^{(3)} - d_2 \\ddot{y} - d_1 \\dot{y} - d_0 y \\right)\n$$\n\noraz:\n\n$$\ny_{k+1} = y_k + h \\cdot \\dot{y}_k \\\\\n\\dot{y}_{k+1} = \\dot{y}_k + h \\cdot \\ddot{y}_k \\\\\n\\ddot{y}_{k+1} = \\ddot{y}_k + h \\cdot y^{(3)}_k \\\\\ny^{(3)}_{k+1} = y^{(3)}_k + h \\cdot y^{(4)}_k\n$$\n\n### Wyniki\n\nOdpowiedź układu została zobrazowana graficznie przy użyciu biblioteki `matplotlib`, gdzie porównano pobudzenie $ u(t) $ z odpowiedzią układu $ y(t) $. Analiza wykresu pozwala na ocenę poprawności działania metody Eulera oraz charakterystyki dynamicznej układu.\n\n---\n\n## Podsumowanie\n\nMetoda Eulera jest prostym, ale skutecznym narzędziem do numerycznego rozwiązywania równań różniczkowych. Przedstawiona implementacja ukazuje możliwość rozszerzenia tej metody na równania wyższych rzędów poprzez sprowadzenie ich do układów równań pierwszego rzędu. Wyniki uzyskane z symulacji potwierdzają poprawność zastosowanego podejścia.",
      "metadata": {}
    },
    {
      "id": "df83fa9a-1c9b-4459-a65e-f61c59e11a38",
      "cell_type": "code",
      "source": "",
      "metadata": {
        "trusted": true
      },
      "outputs": [],
      "execution_count": null
    }
  ]
}